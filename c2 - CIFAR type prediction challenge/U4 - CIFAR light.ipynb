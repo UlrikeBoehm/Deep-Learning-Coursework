{
 "cells": [
  {
   "cell_type": "code",
   "execution_count": 1,
   "metadata": {
    "ExecuteTime": {
     "end_time": "2018-05-19T14:11:42.109620Z",
     "start_time": "2018-05-19T14:11:41.352270Z"
    }
   },
   "outputs": [
    {
     "name": "stdout",
     "output_type": "stream",
     "text": [
      "(6000, 3, 32, 32) float32\n",
      "(6000,) int64\n",
      "(300, 3, 32, 32) float32\n"
     ]
    },
    {
     "data": {
      "image/png": "[encoded data removed]",
      "text/plain": [
       "<matplotlib.figure.Figure at 0x1075a3748>"
      ]
     },
     "metadata": {},
     "output_type": "display_data"
    }
   ],
   "source": [
    "import numpy as np\n",
    "import matplotlib.pyplot as plt\n",
    "%matplotlib inline\n",
    "\n",
    "with np.load('prediction-challenge-02-data.npz') as fh:\n",
    "    data_x = fh['data_x']\n",
    "    data_y = fh['data_y']\n",
    "    test_x = fh['test_x']\n",
    "\n",
    "# TRAINING DATA: INPUT (x) AND OUTPUT (y)\n",
    "# 1. INDEX: IMAGE SERIAL NUMBER (6000)\n",
    "# 2. INDEX: COLOR CHANNELS (3)\n",
    "# 3/4. INDEX: PIXEL VALUE (32 x 32)\n",
    "print(data_x.shape, data_x.dtype)\n",
    "print(data_y.shape, data_y.dtype)\n",
    "\n",
    "# TEST DATA: INPUT (x) ONLY\n",
    "print(test_x.shape, test_x.dtype)\n",
    "\n",
    "plt.imshow(data_x[4999].transpose((1,2,0)))\n",
    "plt.title(data_y[4999])\n",
    "plt.show()"
   ]
  },
  {
   "cell_type": "code",
   "execution_count": 2,
   "metadata": {
    "ExecuteTime": {
     "end_time": "2018-05-19T14:11:42.114797Z",
     "start_time": "2018-05-19T14:11:42.111327Z"
    }
   },
   "outputs": [
    {
     "data": {
      "text/plain": [
       "array([1, 0, 1, ..., 2, 0, 1])"
      ]
     },
     "execution_count": 2,
     "metadata": {},
     "output_type": "execute_result"
    }
   ],
   "source": [
    "data_y"
   ]
  },
  {
   "cell_type": "code",
   "execution_count": 3,
   "metadata": {
    "ExecuteTime": {
     "end_time": "2018-05-19T14:11:42.120774Z",
     "start_time": "2018-05-19T14:11:42.116381Z"
    }
   },
   "outputs": [
    {
     "data": {
      "text/plain": [
       "(array([164, 183, 153]), array([0, 1, 2, 3]))"
      ]
     },
     "execution_count": 3,
     "metadata": {},
     "output_type": "execute_result"
    }
   ],
   "source": [
    "np.histogram(data_y[:500],bins=[0,1,2,3])"
   ]
  },
  {
   "cell_type": "code",
   "execution_count": 4,
   "metadata": {
    "ExecuteTime": {
     "end_time": "2018-05-19T14:11:42.126870Z",
     "start_time": "2018-05-19T14:11:42.122327Z"
    }
   },
   "outputs": [
    {
     "data": {
      "text/plain": [
       "(array([1836, 1817, 1847]), array([0, 1, 2, 3]))"
      ]
     },
     "execution_count": 4,
     "metadata": {},
     "output_type": "execute_result"
    }
   ],
   "source": [
    "np.histogram(data_y[500:],bins=[0,1,2,3])"
   ]
  },
  {
   "cell_type": "code",
   "execution_count": 5,
   "metadata": {
    "ExecuteTime": {
     "end_time": "2018-05-19T14:11:42.132805Z",
     "start_time": "2018-05-19T14:11:42.128283Z"
    }
   },
   "outputs": [
    {
     "data": {
      "text/plain": [
       "array([[[ 22,  39,  48, ...,  61,  49,  28],\n",
       "        [ 24,  45,  58, ...,  74,  46,  25],\n",
       "        [ 41,  64,  69, ...,  92,  48,  36],\n",
       "        ..., \n",
       "        [136, 129, 153, ...,  95,  96,  91],\n",
       "        [140, 127, 137, ..., 120, 118,  96],\n",
       "        [128, 126, 126, ..., 124, 126,  61]],\n",
       "\n",
       "       [[110, 118, 119, ..., 126, 123, 113],\n",
       "        [109, 114, 115, ..., 123, 111, 101],\n",
       "        [114, 114, 106, ..., 125, 105, 103],\n",
       "        ..., \n",
       "        [ 96,  90, 120, ...,  76,  78,  72],\n",
       "        [100,  88, 105, ...,  98,  98,  78],\n",
       "        [ 87,  86,  93, ...,  99, 104,  44]],\n",
       "\n",
       "       [[200, 200, 193, ..., 193, 193, 205],\n",
       "        [194, 187, 182, ..., 177, 176, 184],\n",
       "        [188, 170, 157, ..., 163, 164, 176],\n",
       "        ..., \n",
       "        [ 60,  54,  83, ...,  62,  68,  67],\n",
       "        [ 67,  54,  67, ...,  78,  82,  68],\n",
       "        [ 58,  54,  54, ...,  72,  83,  31]]], dtype=uint8)"
      ]
     },
     "execution_count": 5,
     "metadata": {},
     "output_type": "execute_result"
    }
   ],
   "source": [
    "(data_x[2]*255).astype('uint8')"
   ]
  },
  {
   "cell_type": "code",
   "execution_count": 6,
   "metadata": {
    "ExecuteTime": {
     "end_time": "2018-05-19T14:11:42.295614Z",
     "start_time": "2018-05-19T14:11:42.134199Z"
    }
   },
   "outputs": [
    {
     "data": {
      "text/plain": [
       "1"
      ]
     },
     "execution_count": 6,
     "metadata": {},
     "output_type": "execute_result"
    }
   ],
   "source": [
    "import torch\n",
    "import torchvision\n",
    "import torchvision.transforms as transforms\n",
    "\n",
    "torch.set_num_threads(8)\n",
    "torch.get_num_threads() "
   ]
  },
  {
   "cell_type": "code",
   "execution_count": 7,
   "metadata": {
    "ExecuteTime": {
     "end_time": "2018-05-19T14:11:42.303547Z",
     "start_time": "2018-05-19T14:11:42.297208Z"
    },
    "collapsed": true
   },
   "outputs": [],
   "source": [
    "transform = transforms.Compose(\n",
    "    [transforms.ToPILImage(),\n",
    "     transforms.ToTensor(),\n",
    "     transforms.Normalize((0.5, 0.5, 0.5), (0.5, 0.5, 0.5))])\n",
    "\n",
    "stochastic_transform = transforms.Compose(\n",
    "    [transforms.ToPILImage(),\n",
    "     transforms.RandomRotation(15),\n",
    "     transforms.RandomHorizontalFlip(),\n",
    "     torchvision.transforms.ColorJitter(brightness=0.15,contrast=0.8,hue=0.1,saturation=0.8),\n",
    "     transforms.ToTensor(),\n",
    "     transforms.Normalize((0.5, 0.5, 0.5), (0.5, 0.5, 0.5))\n",
    "    ])\n"
   ]
  },
  {
   "cell_type": "code",
   "execution_count": 8,
   "metadata": {
    "ExecuteTime": {
     "end_time": "2018-05-19T14:11:42.352771Z",
     "start_time": "2018-05-19T14:11:42.305293Z"
    },
    "collapsed": true
   },
   "outputs": [],
   "source": [
    "class CIFARdataset(torch.utils.data.Dataset):\n",
    "    def __init__(self, fp, transform, dset=\"train\"):\n",
    "        VAL_SIZE = 500\n",
    "        self.transform = transform\n",
    "        with np.load(fp) as fh:\n",
    "            if dset==\"train\":\n",
    "                self.data_x = (fh['data_x'][VAL_SIZE:]*255).astype('uint8')\n",
    "                self.data_y = fh['data_y'][VAL_SIZE:]\n",
    "                assert len(self.data_x) == len(self.data_y)\n",
    "            elif dset==\"test\":\n",
    "                self.data_x = (fh['data_x'][:VAL_SIZE]*255).astype('uint8')\n",
    "                self.data_y = fh['data_y'][:VAL_SIZE]\n",
    "                assert len(self.data_x) == len(self.data_y)\n",
    "            elif dset==\"pred\":\n",
    "                self.data_x = (fh['test_x']*255).astype('uint8')\n",
    "                self.data_y = None\n",
    "\n",
    "    def __len__(self):\n",
    "        return len(self.data_x)\n",
    "\n",
    "    def __getitem__(self, i):\n",
    "        image = self.data_x[i].transpose(1,2,0)\n",
    "        if self.data_y is None:\n",
    "            image = self.transform(image)\n",
    "            return image\n",
    "        label = self.data_y[i]\n",
    "        if self.transform:\n",
    "            image = self.transform(image)\n",
    "        sample = (image, label)\n",
    "        return sample"
   ]
  },
  {
   "cell_type": "code",
   "execution_count": 9,
   "metadata": {
    "ExecuteTime": {
     "end_time": "2018-05-19T14:11:43.034672Z",
     "start_time": "2018-05-19T14:11:42.354889Z"
    },
    "collapsed": true
   },
   "outputs": [],
   "source": [
    "fp = 'prediction-challenge-02-data.npz'\n",
    "train_dataset = CIFARdataset(fp,stochastic_transform,dset=\"train\")\n",
    "test_dataset = CIFARdataset(fp,transform,dset=\"test\")\n",
    "pred_dataset = CIFARdataset(fp,transform,dset=\"pred\")"
   ]
  },
  {
   "cell_type": "code",
   "execution_count": 10,
   "metadata": {
    "ExecuteTime": {
     "end_time": "2018-05-19T14:11:43.185412Z",
     "start_time": "2018-05-19T14:11:43.036393Z"
    }
   },
   "outputs": [
    {
     "data": {
      "image/png": "[encoded data removed]",
      "text/plain": [
       "<matplotlib.figure.Figure at 0x10ff96160>"
      ]
     },
     "metadata": {},
     "output_type": "display_data"
    }
   ],
   "source": [
    "x = train_dataset[0][0].numpy()\n",
    "plt.imshow(x.transpose((1,2,0)))\n",
    "plt.show()"
   ]
  },
  {
   "cell_type": "code",
   "execution_count": 11,
   "metadata": {
    "ExecuteTime": {
     "end_time": "2018-05-19T14:11:43.192062Z",
     "start_time": "2018-05-19T14:11:43.186979Z"
    },
    "collapsed": true
   },
   "outputs": [],
   "source": [
    "kwargs = {'num_workers': 1, 'pin_memory': True} if torch.cuda.is_available() else {}\n",
    "train_loader = torch.utils.data.DataLoader(train_dataset,\n",
    "                                           batch_size=8, \n",
    "                                           shuffle=True,\n",
    "                                           **kwargs)\n",
    "test_loader = torch.utils.data.DataLoader(test_dataset,\n",
    "                                          batch_size=8,\n",
    "                                          shuffle=False,\n",
    "                                          **kwargs)"
   ]
  },
  {
   "cell_type": "code",
   "execution_count": 12,
   "metadata": {
    "ExecuteTime": {
     "end_time": "2018-05-19T14:11:43.528857Z",
     "start_time": "2018-05-19T14:11:43.194084Z"
    },
    "collapsed": true
   },
   "outputs": [],
   "source": [
    "import torch.nn as nn\n",
    "import torch.nn.functional as F\n",
    "\n",
    "class Net(nn.Module):\n",
    "    def __init__(self):\n",
    "        super(Net, self).__init__()\n",
    "        self.conv1 = nn.Conv2d(3, 16, 3, padding=1)\n",
    "        self.pool = nn.MaxPool2d(3, 3)\n",
    "        self.conv2 = nn.Conv2d(16, 32, 3, padding=1)\n",
    "        self.conv3 = nn.Conv2d(32, 32, 3, padding=1)\n",
    "        self.conv4 = nn.Conv2d(32, 32, 3, padding=1)\n",
    "        self.fc1 = nn.Linear(32 * 3 * 3, 120)\n",
    "        self.fc2 = nn.Linear(120, 84)\n",
    "        self.fc3 = nn.Linear(84, 3)\n",
    "\n",
    "    def forward(self, x):\n",
    "        x = F.relu(self.conv1(x))\n",
    "        \n",
    "        x = F.relu(self.conv2(x))\n",
    "        x = self.pool(x)\n",
    "        x = F.relu(self.conv3(x))\n",
    "        \n",
    "        x = F.relu(self.conv4(x))\n",
    "        x = self.pool(x)\n",
    "      \n",
    "        \n",
    "        x = x.view(-1, 32 * 3 * 3)\n",
    "        x = F.relu(self.fc1(x))\n",
    "        x = F.relu(self.fc2(x))\n",
    "        x = self.fc3(x)\n",
    "        return x\n",
    "\n",
    "    \n",
    "class Net2(nn.Module):\n",
    "    def __init__(self):\n",
    "        super(Net2, self).__init__()\n",
    "        self.conv1 = nn.Conv2d(3, 16, 3, padding=1)\n",
    "        self.pool = nn.MaxPool2d(3, 3)\n",
    "        self.conv2 = nn.Conv2d(16, 32, 3, padding=1)\n",
    "        self.conv3 = nn.Conv2d(32, 32, 3, padding=1)\n",
    "        self.fc1 = nn.Linear(32 * 3 * 3, 42)\n",
    "        self.fc2 = nn.Linear(42, 3)\n",
    "\n",
    "    def forward(self, x):\n",
    "        x = F.relu(self.conv1(x))\n",
    "        \n",
    "        x = F.relu(self.conv2(x))\n",
    "        x = self.pool(x)\n",
    "        x = F.relu(self.conv3(x))\n",
    "        x = self.pool(x)\n",
    "        #print(x.size())\n",
    "      \n",
    "        \n",
    "        x = x.view(-1, 32 * 3 * 3)\n",
    "        x = F.relu(self.fc1(x))\n",
    "        x = self.fc2(x)\n",
    "        return x\n",
    "    \n",
    "class Net3(nn.Module):\n",
    "    def __init__(self):\n",
    "        super(Net3, self).__init__()\n",
    "        self.conv1 = nn.Conv2d(3, 16, 3, padding=1)\n",
    "        self.conv2 = nn.Conv2d(16, 32, 3, padding=1)\n",
    "        self.conv3 = nn.Conv2d(32, 32, 3, padding=1)\n",
    "        self.conv4 = nn.Conv2d(32, 64, 3, padding=1)\n",
    "        self.fc1 = nn.Linear(64 * 1 * 1, 24)\n",
    "        self.fc2 = nn.Linear(24, 3)\n",
    "        \n",
    "        self.pool = nn.MaxPool2d(3, 3)\n",
    "        \n",
    "    def forward(self, x):\n",
    "        x = F.relu(self.conv1(x))\n",
    "        \n",
    "        x = F.relu(self.conv2(x))\n",
    "        x = self.pool(x)\n",
    "        x = F.relu(self.conv3(x))\n",
    "        x = self.pool(x)\n",
    "        x = F.relu(self.conv4(x))\n",
    "        x = self.pool(x)\n",
    "        #print(x.size())\n",
    "      \n",
    "        \n",
    "        x = x.view(-1, 64 * 1 * 1)\n",
    "        x = F.relu(self.fc1(x))\n",
    "        x = self.fc2(x)\n",
    "        return x\n",
    "\n",
    "net1 = Net()\n",
    "\n",
    "net2 = Net2()\n",
    "\n",
    "net3 = Net3()"
   ]
  },
  {
   "cell_type": "code",
   "execution_count": 13,
   "metadata": {
    "ExecuteTime": {
     "end_time": "2018-05-19T14:11:43.588430Z",
     "start_time": "2018-05-19T14:11:43.530572Z"
    },
    "collapsed": true
   },
   "outputs": [],
   "source": [
    "from torch.autograd import Variable\n",
    "\n",
    "def train(model,optimizer,epoch):\n",
    "    model.train()\n",
    "    \n",
    "    for batch_idx, (data,target) in enumerate(train_loader):\n",
    "        if torch.cuda.is_available():\n",
    "            data, target = data.cuda(), target.cuda()\n",
    "        data, target = Variable(data), Variable(target)\n",
    "        \n",
    "        optimizer.zero_grad()\n",
    "        \n",
    "        output = model(data)\n",
    "\n",
    "        loss = nn.CrossEntropyLoss()(output, target)\n",
    "        loss.backward()\n",
    "        \n",
    "        optimizer.step()\n",
    "        \n",
    "        if batch_idx % 200 == 0:\n",
    "            print('Train Epoch: {} [{}/{} ({:.0f}%)]\\tLoss: {:.6f}'.format(\n",
    "                epoch, batch_idx * len(data), len(train_loader.dataset),\n",
    "                100. * batch_idx / len(train_loader), loss.item()))     \n",
    "            \n",
    "def evaluate(model,optimizer):\n",
    "    model.eval()\n",
    "    val_loss = 0\n",
    "    correct = 0\n",
    "    with torch.no_grad():\n",
    "        for data, target in test_loader:\n",
    "            if torch.cuda.is_available():\n",
    "                data, target = data.cuda(), target.cuda()\n",
    "            data, target = Variable(data), Variable(target)\n",
    "            output = model(data)\n",
    "            \n",
    "            val_loss += nn.CrossEntropyLoss(size_average=False)(output, target).item() # sum up batch loss\n",
    "            pred = output.data.max(1, keepdim=True)[1] # get the index of the max log-probability\n",
    "            correct += pred.eq(target.data.view_as(pred)).cpu().sum()\n",
    "\n",
    "        val_loss /= len(test_loader.dataset)\n",
    "        print('Validation set: Average loss: {:.4f}, Accuracy: {}/{} ({:.0f}%)\\n'.format(\n",
    "            val_loss, correct, len(test_loader.dataset),\n",
    "            100. * correct / len(test_loader.dataset)))"
   ]
  },
  {
   "cell_type": "code",
   "execution_count": 14,
   "metadata": {
    "ExecuteTime": {
     "end_time": "2018-05-19T14:11:43.625206Z",
     "start_time": "2018-05-19T14:11:43.590514Z"
    },
    "collapsed": true
   },
   "outputs": [],
   "source": [
    "import torch.optim as optim\n",
    "\n",
    "# criterion_train = nn.CrossEntropyLoss()\n",
    "# criterion_test = nn.CrossEntropyLoss(size_average=False)\n",
    "optimizer1 = optim.Adam(net1.parameters()) #SGD(model.parameters(), lr=0.008, momentum=0.9)"
   ]
  },
  {
   "cell_type": "code",
   "execution_count": 106,
   "metadata": {
    "ExecuteTime": {
     "end_time": "2018-05-19T16:30:27.255931Z",
     "start_time": "2018-05-19T14:49:48.760508Z"
    }
   },
   "outputs": [
    {
     "name": "stdout",
     "output_type": "stream",
     "text": [
      "Train Epoch: 1 [0/5500 (0%)]\tLoss: 0.120953\n",
      "Train Epoch: 1 [1600/5500 (29%)]\tLoss: 0.608870\n",
      "Train Epoch: 1 [3200/5500 (58%)]\tLoss: 0.185919\n",
      "Train Epoch: 1 [4800/5500 (87%)]\tLoss: 0.656778\n",
      "Validation set: Average loss: 0.5305, Accuracy: 380/500 (76%)\n",
      "\n",
      "Train Epoch: 2 [0/5500 (0%)]\tLoss: 0.290907\n",
      "Train Epoch: 2 [1600/5500 (29%)]\tLoss: 0.616487\n",
      "Train Epoch: 2 [3200/5500 (58%)]\tLoss: 1.499288\n",
      "Train Epoch: 2 [4800/5500 (87%)]\tLoss: 0.489130\n",
      "Validation set: Average loss: 0.6902, Accuracy: 367/500 (73%)\n",
      "\n",
      "Train Epoch: 3 [0/5500 (0%)]\tLoss: 0.459042\n",
      "Train Epoch: 3 [1600/5500 (29%)]\tLoss: 0.580483\n",
      "Train Epoch: 3 [3200/5500 (58%)]\tLoss: 0.590616\n",
      "Train Epoch: 3 [4800/5500 (87%)]\tLoss: 0.428472\n",
      "Validation set: Average loss: 0.5710, Accuracy: 374/500 (74%)\n",
      "\n",
      "Train Epoch: 4 [0/5500 (0%)]\tLoss: 0.304985\n",
      "Train Epoch: 4 [1600/5500 (29%)]\tLoss: 0.446098\n",
      "Train Epoch: 4 [3200/5500 (58%)]\tLoss: 0.744040\n",
      "Train Epoch: 4 [4800/5500 (87%)]\tLoss: 0.451343\n",
      "Validation set: Average loss: 0.5604, Accuracy: 380/500 (76%)\n",
      "\n",
      "Train Epoch: 5 [0/5500 (0%)]\tLoss: 0.302652\n",
      "Train Epoch: 5 [1600/5500 (29%)]\tLoss: 0.310660\n",
      "Train Epoch: 5 [3200/5500 (58%)]\tLoss: 0.421615\n",
      "Train Epoch: 5 [4800/5500 (87%)]\tLoss: 0.316725\n",
      "Validation set: Average loss: 0.5317, Accuracy: 386/500 (77%)\n",
      "\n",
      "Train Epoch: 6 [0/5500 (0%)]\tLoss: 0.368242\n",
      "Train Epoch: 6 [1600/5500 (29%)]\tLoss: 0.644017\n",
      "Train Epoch: 6 [3200/5500 (58%)]\tLoss: 0.697755\n",
      "Train Epoch: 6 [4800/5500 (87%)]\tLoss: 0.864232\n",
      "Validation set: Average loss: 0.5123, Accuracy: 395/500 (79%)\n",
      "\n",
      "Train Epoch: 7 [0/5500 (0%)]\tLoss: 1.020399\n",
      "Train Epoch: 7 [1600/5500 (29%)]\tLoss: 0.442477\n",
      "Train Epoch: 7 [3200/5500 (58%)]\tLoss: 0.995158\n",
      "Train Epoch: 7 [4800/5500 (87%)]\tLoss: 0.166351\n",
      "Validation set: Average loss: 0.5509, Accuracy: 371/500 (74%)\n",
      "\n",
      "Train Epoch: 8 [0/5500 (0%)]\tLoss: 0.610887\n",
      "Train Epoch: 8 [1600/5500 (29%)]\tLoss: 0.446542\n",
      "Train Epoch: 8 [3200/5500 (58%)]\tLoss: 0.776629\n",
      "Train Epoch: 8 [4800/5500 (87%)]\tLoss: 0.379459\n",
      "Validation set: Average loss: 0.5038, Accuracy: 392/500 (78%)\n",
      "\n",
      "Train Epoch: 9 [0/5500 (0%)]\tLoss: 0.451469\n",
      "Train Epoch: 9 [1600/5500 (29%)]\tLoss: 0.334168\n",
      "Train Epoch: 9 [3200/5500 (58%)]\tLoss: 0.112985\n",
      "Train Epoch: 9 [4800/5500 (87%)]\tLoss: 0.478865\n",
      "Validation set: Average loss: 0.5218, Accuracy: 390/500 (78%)\n",
      "\n",
      "Train Epoch: 10 [0/5500 (0%)]\tLoss: 0.412522\n",
      "Train Epoch: 10 [1600/5500 (29%)]\tLoss: 0.438114\n",
      "Train Epoch: 10 [3200/5500 (58%)]\tLoss: 0.984742\n",
      "Train Epoch: 10 [4800/5500 (87%)]\tLoss: 0.602820\n",
      "Validation set: Average loss: 0.5142, Accuracy: 386/500 (77%)\n",
      "\n",
      "Train Epoch: 11 [0/5500 (0%)]\tLoss: 0.208035\n",
      "Train Epoch: 11 [1600/5500 (29%)]\tLoss: 0.378337\n",
      "Train Epoch: 11 [3200/5500 (58%)]\tLoss: 0.276783\n",
      "Train Epoch: 11 [4800/5500 (87%)]\tLoss: 0.596738\n",
      "Validation set: Average loss: 0.5080, Accuracy: 401/500 (80%)\n",
      "\n",
      "Train Epoch: 12 [0/5500 (0%)]\tLoss: 0.287359\n",
      "Train Epoch: 12 [1600/5500 (29%)]\tLoss: 1.066770\n",
      "Train Epoch: 12 [3200/5500 (58%)]\tLoss: 0.287530\n",
      "Train Epoch: 12 [4800/5500 (87%)]\tLoss: 0.556564\n",
      "Validation set: Average loss: 0.5458, Accuracy: 390/500 (78%)\n",
      "\n",
      "Train Epoch: 13 [0/5500 (0%)]\tLoss: 0.296890\n",
      "Train Epoch: 13 [1600/5500 (29%)]\tLoss: 0.374657\n",
      "Train Epoch: 13 [3200/5500 (58%)]\tLoss: 0.295678\n",
      "Train Epoch: 13 [4800/5500 (87%)]\tLoss: 0.303277\n",
      "Validation set: Average loss: 0.5536, Accuracy: 391/500 (78%)\n",
      "\n",
      "Train Epoch: 14 [0/5500 (0%)]\tLoss: 0.430398\n",
      "Train Epoch: 14 [1600/5500 (29%)]\tLoss: 0.463005\n",
      "Train Epoch: 14 [3200/5500 (58%)]\tLoss: 0.399661\n",
      "Train Epoch: 14 [4800/5500 (87%)]\tLoss: 0.391489\n",
      "Validation set: Average loss: 0.5855, Accuracy: 391/500 (78%)\n",
      "\n",
      "Train Epoch: 15 [0/5500 (0%)]\tLoss: 0.205951\n",
      "Train Epoch: 15 [1600/5500 (29%)]\tLoss: 0.481919\n",
      "Train Epoch: 15 [3200/5500 (58%)]\tLoss: 0.382007\n",
      "Train Epoch: 15 [4800/5500 (87%)]\tLoss: 0.607424\n",
      "Validation set: Average loss: 0.5530, Accuracy: 391/500 (78%)\n",
      "\n",
      "Train Epoch: 16 [0/5500 (0%)]\tLoss: 0.677963\n",
      "Train Epoch: 16 [1600/5500 (29%)]\tLoss: 0.401376\n",
      "Train Epoch: 16 [3200/5500 (58%)]\tLoss: 0.337172\n",
      "Train Epoch: 16 [4800/5500 (87%)]\tLoss: 0.297185\n",
      "Validation set: Average loss: 0.5604, Accuracy: 392/500 (78%)\n",
      "\n",
      "Train Epoch: 17 [0/5500 (0%)]\tLoss: 0.185094\n",
      "Train Epoch: 17 [1600/5500 (29%)]\tLoss: 0.485640\n",
      "Train Epoch: 17 [3200/5500 (58%)]\tLoss: 0.415303\n",
      "Train Epoch: 17 [4800/5500 (87%)]\tLoss: 0.407536\n",
      "Validation set: Average loss: 0.5720, Accuracy: 386/500 (77%)\n",
      "\n",
      "Train Epoch: 18 [0/5500 (0%)]\tLoss: 0.433221\n",
      "Train Epoch: 18 [1600/5500 (29%)]\tLoss: 0.222469\n",
      "Train Epoch: 18 [3200/5500 (58%)]\tLoss: 0.382233\n",
      "Train Epoch: 18 [4800/5500 (87%)]\tLoss: 0.330156\n",
      "Validation set: Average loss: 0.5291, Accuracy: 393/500 (78%)\n",
      "\n",
      "Train Epoch: 19 [0/5500 (0%)]\tLoss: 0.355278\n",
      "Train Epoch: 19 [1600/5500 (29%)]\tLoss: 0.545635\n",
      "Train Epoch: 19 [3200/5500 (58%)]\tLoss: 0.162959\n",
      "Train Epoch: 19 [4800/5500 (87%)]\tLoss: 0.561419\n",
      "Validation set: Average loss: 0.5649, Accuracy: 391/500 (78%)\n",
      "\n",
      "Train Epoch: 20 [0/5500 (0%)]\tLoss: 0.258627\n",
      "Train Epoch: 20 [1600/5500 (29%)]\tLoss: 0.022962\n",
      "Train Epoch: 20 [3200/5500 (58%)]\tLoss: 0.231760\n",
      "Train Epoch: 20 [4800/5500 (87%)]\tLoss: 0.417586\n",
      "Validation set: Average loss: 0.5071, Accuracy: 407/500 (81%)\n",
      "\n",
      "Train Epoch: 21 [0/5500 (0%)]\tLoss: 0.292818\n",
      "Train Epoch: 21 [1600/5500 (29%)]\tLoss: 0.371180\n",
      "Train Epoch: 21 [3200/5500 (58%)]\tLoss: 0.669522\n",
      "Train Epoch: 21 [4800/5500 (87%)]\tLoss: 0.174067\n",
      "Validation set: Average loss: 0.5191, Accuracy: 398/500 (79%)\n",
      "\n",
      "Train Epoch: 22 [0/5500 (0%)]\tLoss: 0.218023\n",
      "Train Epoch: 22 [1600/5500 (29%)]\tLoss: 0.496116\n",
      "Train Epoch: 22 [3200/5500 (58%)]\tLoss: 0.406579\n",
      "Train Epoch: 22 [4800/5500 (87%)]\tLoss: 0.319551\n",
      "Validation set: Average loss: 0.5441, Accuracy: 385/500 (77%)\n",
      "\n",
      "Train Epoch: 23 [0/5500 (0%)]\tLoss: 0.612058\n",
      "Train Epoch: 23 [1600/5500 (29%)]\tLoss: 0.621967\n",
      "Train Epoch: 23 [3200/5500 (58%)]\tLoss: 0.609664\n",
      "Train Epoch: 23 [4800/5500 (87%)]\tLoss: 0.839113\n",
      "Validation set: Average loss: 0.6247, Accuracy: 398/500 (79%)\n",
      "\n",
      "Train Epoch: 24 [0/5500 (0%)]\tLoss: 0.255481\n",
      "Train Epoch: 24 [1600/5500 (29%)]\tLoss: 0.548520\n",
      "Train Epoch: 24 [3200/5500 (58%)]\tLoss: 0.654676\n",
      "Train Epoch: 24 [4800/5500 (87%)]\tLoss: 0.543333\n",
      "Validation set: Average loss: 0.5857, Accuracy: 369/500 (73%)\n",
      "\n",
      "Train Epoch: 25 [0/5500 (0%)]\tLoss: 0.363885\n",
      "Train Epoch: 25 [1600/5500 (29%)]\tLoss: 0.190212\n",
      "Train Epoch: 25 [3200/5500 (58%)]\tLoss: 0.442382\n",
      "Train Epoch: 25 [4800/5500 (87%)]\tLoss: 0.513291\n",
      "Validation set: Average loss: 0.5454, Accuracy: 393/500 (78%)\n",
      "\n",
      "Train Epoch: 26 [0/5500 (0%)]\tLoss: 0.484012\n",
      "Train Epoch: 26 [1600/5500 (29%)]\tLoss: 0.407069\n",
      "Train Epoch: 26 [3200/5500 (58%)]\tLoss: 0.116369\n",
      "Train Epoch: 26 [4800/5500 (87%)]\tLoss: 0.752275\n",
      "Validation set: Average loss: 0.6193, Accuracy: 391/500 (78%)\n",
      "\n",
      "Train Epoch: 27 [0/5500 (0%)]\tLoss: 0.371517\n",
      "Train Epoch: 27 [1600/5500 (29%)]\tLoss: 0.629721\n",
      "Train Epoch: 27 [3200/5500 (58%)]\tLoss: 0.283441\n",
      "Train Epoch: 27 [4800/5500 (87%)]\tLoss: 0.311877\n",
      "Validation set: Average loss: 0.5786, Accuracy: 391/500 (78%)\n",
      "\n",
      "Train Epoch: 28 [0/5500 (0%)]\tLoss: 0.122454\n",
      "Train Epoch: 28 [1600/5500 (29%)]\tLoss: 0.283715\n",
      "Train Epoch: 28 [3200/5500 (58%)]\tLoss: 0.710914\n",
      "Train Epoch: 28 [4800/5500 (87%)]\tLoss: 0.620317\n",
      "Validation set: Average loss: 0.5016, Accuracy: 395/500 (79%)\n",
      "\n",
      "Train Epoch: 29 [0/5500 (0%)]\tLoss: 0.587213\n",
      "Train Epoch: 29 [1600/5500 (29%)]\tLoss: 0.547515\n",
      "Train Epoch: 29 [3200/5500 (58%)]\tLoss: 0.384533\n",
      "Train Epoch: 29 [4800/5500 (87%)]\tLoss: 0.496554\n",
      "Validation set: Average loss: 0.5242, Accuracy: 399/500 (79%)\n",
      "\n",
      "Train Epoch: 30 [0/5500 (0%)]\tLoss: 0.300364\n",
      "Train Epoch: 30 [1600/5500 (29%)]\tLoss: 0.342619\n",
      "Train Epoch: 30 [3200/5500 (58%)]\tLoss: 0.117177\n",
      "Train Epoch: 30 [4800/5500 (87%)]\tLoss: 1.020601\n",
      "Validation set: Average loss: 0.5737, Accuracy: 385/500 (77%)\n",
      "\n"
     ]
    }
   ],
   "source": [
    "epochs = 30\n",
    "for epoch in range(1, epochs + 1):\n",
    "    train(net1,optimizer1, epoch)\n",
    "    evaluate(net1,optimizer1)"
   ]
  },
  {
   "cell_type": "code",
   "execution_count": 16,
   "metadata": {
    "ExecuteTime": {
     "end_time": "2018-05-19T14:19:16.502077Z",
     "start_time": "2018-05-19T14:19:16.499379Z"
    },
    "collapsed": true
   },
   "outputs": [],
   "source": [
    "optimizer2 = optim.Adam(net2.parameters())"
   ]
  },
  {
   "cell_type": "code",
   "execution_count": 17,
   "metadata": {
    "ExecuteTime": {
     "end_time": "2018-05-19T14:25:16.405390Z",
     "start_time": "2018-05-19T14:19:16.503617Z"
    }
   },
   "outputs": [
    {
     "name": "stdout",
     "output_type": "stream",
     "text": [
      "Train Epoch: 1 [0/5500 (0%)]\tLoss: 1.105009\n",
      "Train Epoch: 1 [1600/5500 (29%)]\tLoss: 1.178339\n",
      "Train Epoch: 1 [3200/5500 (58%)]\tLoss: 0.813777\n",
      "Train Epoch: 1 [4800/5500 (87%)]\tLoss: 0.701552\n",
      "Validation set: Average loss: 0.8881, Accuracy: 284/500 (56%)\n",
      "\n",
      "Train Epoch: 2 [0/5500 (0%)]\tLoss: 1.147110\n",
      "Train Epoch: 2 [1600/5500 (29%)]\tLoss: 0.937995\n",
      "Train Epoch: 2 [3200/5500 (58%)]\tLoss: 1.047457\n",
      "Train Epoch: 2 [4800/5500 (87%)]\tLoss: 0.595281\n",
      "Validation set: Average loss: 0.8486, Accuracy: 298/500 (59%)\n",
      "\n",
      "Train Epoch: 3 [0/5500 (0%)]\tLoss: 0.646806\n",
      "Train Epoch: 3 [1600/5500 (29%)]\tLoss: 0.666661\n",
      "Train Epoch: 3 [3200/5500 (58%)]\tLoss: 0.729717\n",
      "Train Epoch: 3 [4800/5500 (87%)]\tLoss: 0.636446\n",
      "Validation set: Average loss: 0.7918, Accuracy: 299/500 (59%)\n",
      "\n",
      "Train Epoch: 4 [0/5500 (0%)]\tLoss: 0.872458\n",
      "Train Epoch: 4 [1600/5500 (29%)]\tLoss: 0.841664\n",
      "Train Epoch: 4 [3200/5500 (58%)]\tLoss: 0.538523\n",
      "Train Epoch: 4 [4800/5500 (87%)]\tLoss: 0.580528\n",
      "Validation set: Average loss: 0.7157, Accuracy: 315/500 (63%)\n",
      "\n",
      "Train Epoch: 5 [0/5500 (0%)]\tLoss: 0.566862\n",
      "Train Epoch: 5 [1600/5500 (29%)]\tLoss: 0.502866\n",
      "Train Epoch: 5 [3200/5500 (58%)]\tLoss: 0.453971\n",
      "Train Epoch: 5 [4800/5500 (87%)]\tLoss: 0.248921\n",
      "Validation set: Average loss: 0.7337, Accuracy: 321/500 (64%)\n",
      "\n",
      "Train Epoch: 6 [0/5500 (0%)]\tLoss: 0.408500\n",
      "Train Epoch: 6 [1600/5500 (29%)]\tLoss: 0.786310\n",
      "Train Epoch: 6 [3200/5500 (58%)]\tLoss: 0.765807\n",
      "Train Epoch: 6 [4800/5500 (87%)]\tLoss: 0.710016\n",
      "Validation set: Average loss: 0.7002, Accuracy: 338/500 (67%)\n",
      "\n",
      "Train Epoch: 7 [0/5500 (0%)]\tLoss: 0.851095\n",
      "Train Epoch: 7 [1600/5500 (29%)]\tLoss: 0.643223\n",
      "Train Epoch: 7 [3200/5500 (58%)]\tLoss: 0.538550\n",
      "Train Epoch: 7 [4800/5500 (87%)]\tLoss: 0.607590\n",
      "Validation set: Average loss: 0.7001, Accuracy: 348/500 (69%)\n",
      "\n",
      "Train Epoch: 8 [0/5500 (0%)]\tLoss: 0.689834\n",
      "Train Epoch: 8 [1600/5500 (29%)]\tLoss: 1.125667\n",
      "Train Epoch: 8 [3200/5500 (58%)]\tLoss: 0.808297\n",
      "Train Epoch: 8 [4800/5500 (87%)]\tLoss: 0.704956\n",
      "Validation set: Average loss: 0.6421, Accuracy: 350/500 (70%)\n",
      "\n",
      "Train Epoch: 9 [0/5500 (0%)]\tLoss: 0.642656\n",
      "Train Epoch: 9 [1600/5500 (29%)]\tLoss: 0.786292\n",
      "Train Epoch: 9 [3200/5500 (58%)]\tLoss: 0.743480\n",
      "Train Epoch: 9 [4800/5500 (87%)]\tLoss: 0.618314\n",
      "Validation set: Average loss: 0.6313, Accuracy: 356/500 (71%)\n",
      "\n",
      "Train Epoch: 10 [0/5500 (0%)]\tLoss: 0.738029\n",
      "Train Epoch: 10 [1600/5500 (29%)]\tLoss: 0.519295\n",
      "Train Epoch: 10 [3200/5500 (58%)]\tLoss: 0.912110\n",
      "Train Epoch: 10 [4800/5500 (87%)]\tLoss: 0.510618\n",
      "Validation set: Average loss: 0.6520, Accuracy: 349/500 (69%)\n",
      "\n",
      "Train Epoch: 11 [0/5500 (0%)]\tLoss: 0.759313\n",
      "Train Epoch: 11 [1600/5500 (29%)]\tLoss: 0.551546\n",
      "Train Epoch: 11 [3200/5500 (58%)]\tLoss: 0.541904\n",
      "Train Epoch: 11 [4800/5500 (87%)]\tLoss: 0.523505\n",
      "Validation set: Average loss: 0.6362, Accuracy: 354/500 (70%)\n",
      "\n",
      "Train Epoch: 12 [0/5500 (0%)]\tLoss: 0.590999\n",
      "Train Epoch: 12 [1600/5500 (29%)]\tLoss: 0.880165\n",
      "Train Epoch: 12 [3200/5500 (58%)]\tLoss: 0.681836\n",
      "Train Epoch: 12 [4800/5500 (87%)]\tLoss: 0.512696\n",
      "Validation set: Average loss: 0.6518, Accuracy: 357/500 (71%)\n",
      "\n",
      "Train Epoch: 13 [0/5500 (0%)]\tLoss: 0.459955\n",
      "Train Epoch: 13 [1600/5500 (29%)]\tLoss: 0.480095\n",
      "Train Epoch: 13 [3200/5500 (58%)]\tLoss: 1.209942\n",
      "Train Epoch: 13 [4800/5500 (87%)]\tLoss: 0.663633\n",
      "Validation set: Average loss: 0.6222, Accuracy: 366/500 (73%)\n",
      "\n",
      "Train Epoch: 14 [0/5500 (0%)]\tLoss: 0.210981\n",
      "Train Epoch: 14 [1600/5500 (29%)]\tLoss: 0.686798\n",
      "Train Epoch: 14 [3200/5500 (58%)]\tLoss: 0.557578\n",
      "Train Epoch: 14 [4800/5500 (87%)]\tLoss: 0.532769\n",
      "Validation set: Average loss: 0.5896, Accuracy: 359/500 (71%)\n",
      "\n",
      "Train Epoch: 15 [0/5500 (0%)]\tLoss: 0.740398\n",
      "Train Epoch: 15 [1600/5500 (29%)]\tLoss: 0.750103\n",
      "Train Epoch: 15 [3200/5500 (58%)]\tLoss: 0.445716\n",
      "Train Epoch: 15 [4800/5500 (87%)]\tLoss: 0.479412\n",
      "Validation set: Average loss: 0.6087, Accuracy: 364/500 (72%)\n",
      "\n",
      "Train Epoch: 16 [0/5500 (0%)]\tLoss: 0.458764\n",
      "Train Epoch: 16 [1600/5500 (29%)]\tLoss: 0.409622\n",
      "Train Epoch: 16 [3200/5500 (58%)]\tLoss: 0.447069\n",
      "Train Epoch: 16 [4800/5500 (87%)]\tLoss: 0.953053\n",
      "Validation set: Average loss: 0.5864, Accuracy: 372/500 (74%)\n",
      "\n",
      "Train Epoch: 17 [0/5500 (0%)]\tLoss: 0.614678\n",
      "Train Epoch: 17 [1600/5500 (29%)]\tLoss: 0.395919\n",
      "Train Epoch: 17 [3200/5500 (58%)]\tLoss: 0.472152\n",
      "Train Epoch: 17 [4800/5500 (87%)]\tLoss: 0.844798\n",
      "Validation set: Average loss: 0.5740, Accuracy: 373/500 (74%)\n",
      "\n",
      "Train Epoch: 18 [0/5500 (0%)]\tLoss: 0.359054\n",
      "Train Epoch: 18 [1600/5500 (29%)]\tLoss: 0.748733\n",
      "Train Epoch: 18 [3200/5500 (58%)]\tLoss: 0.618872\n",
      "Train Epoch: 18 [4800/5500 (87%)]\tLoss: 0.319037\n",
      "Validation set: Average loss: 0.5886, Accuracy: 366/500 (73%)\n",
      "\n",
      "Train Epoch: 19 [0/5500 (0%)]\tLoss: 0.690313\n",
      "Train Epoch: 19 [1600/5500 (29%)]\tLoss: 0.477237\n",
      "Train Epoch: 19 [3200/5500 (58%)]\tLoss: 0.495193\n",
      "Train Epoch: 19 [4800/5500 (87%)]\tLoss: 0.823204\n",
      "Validation set: Average loss: 0.5636, Accuracy: 380/500 (76%)\n",
      "\n",
      "Train Epoch: 20 [0/5500 (0%)]\tLoss: 0.695768\n",
      "Train Epoch: 20 [1600/5500 (29%)]\tLoss: 0.466170\n",
      "Train Epoch: 20 [3200/5500 (58%)]\tLoss: 0.613339\n",
      "Train Epoch: 20 [4800/5500 (87%)]\tLoss: 0.365617\n",
      "Validation set: Average loss: 0.5787, Accuracy: 373/500 (74%)\n",
      "\n",
      "Train Epoch: 21 [0/5500 (0%)]\tLoss: 0.179207\n",
      "Train Epoch: 21 [1600/5500 (29%)]\tLoss: 0.611962\n",
      "Train Epoch: 21 [3200/5500 (58%)]\tLoss: 0.511720\n",
      "Train Epoch: 21 [4800/5500 (87%)]\tLoss: 0.779880\n",
      "Validation set: Average loss: 0.5750, Accuracy: 366/500 (73%)\n",
      "\n",
      "Train Epoch: 22 [0/5500 (0%)]\tLoss: 0.594676\n",
      "Train Epoch: 22 [1600/5500 (29%)]\tLoss: 0.731227\n",
      "Train Epoch: 22 [3200/5500 (58%)]\tLoss: 0.947283\n",
      "Train Epoch: 22 [4800/5500 (87%)]\tLoss: 0.200389\n",
      "Validation set: Average loss: 0.5591, Accuracy: 371/500 (74%)\n",
      "\n",
      "Train Epoch: 23 [0/5500 (0%)]\tLoss: 0.417219\n",
      "Train Epoch: 23 [1600/5500 (29%)]\tLoss: 0.429052\n",
      "Train Epoch: 23 [3200/5500 (58%)]\tLoss: 1.280607\n",
      "Train Epoch: 23 [4800/5500 (87%)]\tLoss: 0.388623\n",
      "Validation set: Average loss: 0.5603, Accuracy: 365/500 (73%)\n",
      "\n",
      "Train Epoch: 24 [0/5500 (0%)]\tLoss: 0.144758\n",
      "Train Epoch: 24 [1600/5500 (29%)]\tLoss: 0.690036\n",
      "Train Epoch: 24 [3200/5500 (58%)]\tLoss: 1.282193\n",
      "Train Epoch: 24 [4800/5500 (87%)]\tLoss: 0.737592\n",
      "Validation set: Average loss: 0.5686, Accuracy: 372/500 (74%)\n",
      "\n",
      "Train Epoch: 25 [0/5500 (0%)]\tLoss: 0.449902\n",
      "Train Epoch: 25 [1600/5500 (29%)]\tLoss: 0.348280\n",
      "Train Epoch: 25 [3200/5500 (58%)]\tLoss: 0.484333\n",
      "Train Epoch: 25 [4800/5500 (87%)]\tLoss: 0.510918\n",
      "Validation set: Average loss: 0.6068, Accuracy: 381/500 (76%)\n",
      "\n",
      "Train Epoch: 26 [0/5500 (0%)]\tLoss: 0.898502\n",
      "Train Epoch: 26 [1600/5500 (29%)]\tLoss: 0.554062\n",
      "Train Epoch: 26 [3200/5500 (58%)]\tLoss: 0.389530\n",
      "Train Epoch: 26 [4800/5500 (87%)]\tLoss: 0.340219\n",
      "Validation set: Average loss: 0.5978, Accuracy: 373/500 (74%)\n",
      "\n",
      "Train Epoch: 27 [0/5500 (0%)]\tLoss: 0.367307\n",
      "Train Epoch: 27 [1600/5500 (29%)]\tLoss: 0.267261\n",
      "Train Epoch: 27 [3200/5500 (58%)]\tLoss: 0.277448\n",
      "Train Epoch: 27 [4800/5500 (87%)]\tLoss: 0.577880\n",
      "Validation set: Average loss: 0.5658, Accuracy: 383/500 (76%)\n",
      "\n",
      "Train Epoch: 28 [0/5500 (0%)]\tLoss: 0.426888\n",
      "Train Epoch: 28 [1600/5500 (29%)]\tLoss: 0.677329\n",
      "Train Epoch: 28 [3200/5500 (58%)]\tLoss: 0.434955\n",
      "Train Epoch: 28 [4800/5500 (87%)]\tLoss: 0.894680\n",
      "Validation set: Average loss: 0.5535, Accuracy: 364/500 (72%)\n",
      "\n",
      "Train Epoch: 29 [0/5500 (0%)]\tLoss: 0.450896\n",
      "Train Epoch: 29 [1600/5500 (29%)]\tLoss: 0.405198\n",
      "Train Epoch: 29 [3200/5500 (58%)]\tLoss: 0.798007\n",
      "Train Epoch: 29 [4800/5500 (87%)]\tLoss: 0.508745\n",
      "Validation set: Average loss: 0.5545, Accuracy: 372/500 (74%)\n",
      "\n",
      "Train Epoch: 30 [0/5500 (0%)]\tLoss: 0.825088\n",
      "Train Epoch: 30 [1600/5500 (29%)]\tLoss: 0.393630\n",
      "Train Epoch: 30 [3200/5500 (58%)]\tLoss: 0.600473\n",
      "Train Epoch: 30 [4800/5500 (87%)]\tLoss: 0.058820\n",
      "Validation set: Average loss: 0.5543, Accuracy: 372/500 (74%)\n",
      "\n"
     ]
    }
   ],
   "source": [
    "epochs = 30\n",
    "for epoch in range(1, epochs + 1):\n",
    "    train(net2,optimizer2,epoch)\n",
    "    evaluate(net2,optimizer2)"
   ]
  },
  {
   "cell_type": "code",
   "execution_count": 18,
   "metadata": {
    "ExecuteTime": {
     "end_time": "2018-05-19T14:25:16.409248Z",
     "start_time": "2018-05-19T14:25:16.406759Z"
    },
    "collapsed": true
   },
   "outputs": [],
   "source": [
    "optimizer3 = optim.Adam(net3.parameters())"
   ]
  },
  {
   "cell_type": "code",
   "execution_count": 19,
   "metadata": {
    "ExecuteTime": {
     "end_time": "2018-05-19T14:31:33.905614Z",
     "start_time": "2018-05-19T14:25:16.410607Z"
    }
   },
   "outputs": [
    {
     "name": "stdout",
     "output_type": "stream",
     "text": [
      "Train Epoch: 1 [0/5500 (0%)]\tLoss: 1.141929\n",
      "Train Epoch: 1 [1600/5500 (29%)]\tLoss: 1.003438\n",
      "Train Epoch: 1 [3200/5500 (58%)]\tLoss: 0.996973\n",
      "Train Epoch: 1 [4800/5500 (87%)]\tLoss: 1.109048\n",
      "Validation set: Average loss: 0.9752, Accuracy: 250/500 (50%)\n",
      "\n",
      "Train Epoch: 2 [0/5500 (0%)]\tLoss: 1.082916\n",
      "Train Epoch: 2 [1600/5500 (29%)]\tLoss: 0.847367\n",
      "Train Epoch: 2 [3200/5500 (58%)]\tLoss: 1.003161\n",
      "Train Epoch: 2 [4800/5500 (87%)]\tLoss: 0.907822\n",
      "Validation set: Average loss: 0.8675, Accuracy: 277/500 (55%)\n",
      "\n",
      "Train Epoch: 3 [0/5500 (0%)]\tLoss: 0.571546\n",
      "Train Epoch: 3 [1600/5500 (29%)]\tLoss: 0.704206\n",
      "Train Epoch: 3 [3200/5500 (58%)]\tLoss: 0.779573\n",
      "Train Epoch: 3 [4800/5500 (87%)]\tLoss: 1.065282\n",
      "Validation set: Average loss: 0.8363, Accuracy: 308/500 (61%)\n",
      "\n",
      "Train Epoch: 4 [0/5500 (0%)]\tLoss: 0.793424\n",
      "Train Epoch: 4 [1600/5500 (29%)]\tLoss: 0.709719\n",
      "Train Epoch: 4 [3200/5500 (58%)]\tLoss: 0.694833\n",
      "Train Epoch: 4 [4800/5500 (87%)]\tLoss: 1.018618\n",
      "Validation set: Average loss: 0.7730, Accuracy: 315/500 (63%)\n",
      "\n",
      "Train Epoch: 5 [0/5500 (0%)]\tLoss: 0.339207\n",
      "Train Epoch: 5 [1600/5500 (29%)]\tLoss: 0.885450\n",
      "Train Epoch: 5 [3200/5500 (58%)]\tLoss: 0.693548\n",
      "Train Epoch: 5 [4800/5500 (87%)]\tLoss: 0.581236\n",
      "Validation set: Average loss: 0.7156, Accuracy: 331/500 (66%)\n",
      "\n",
      "Train Epoch: 6 [0/5500 (0%)]\tLoss: 0.562504\n",
      "Train Epoch: 6 [1600/5500 (29%)]\tLoss: 0.912757\n",
      "Train Epoch: 6 [3200/5500 (58%)]\tLoss: 0.735111\n",
      "Train Epoch: 6 [4800/5500 (87%)]\tLoss: 0.701453\n",
      "Validation set: Average loss: 0.7287, Accuracy: 325/500 (65%)\n",
      "\n",
      "Train Epoch: 7 [0/5500 (0%)]\tLoss: 0.858496\n",
      "Train Epoch: 7 [1600/5500 (29%)]\tLoss: 0.600352\n",
      "Train Epoch: 7 [3200/5500 (58%)]\tLoss: 0.617420\n",
      "Train Epoch: 7 [4800/5500 (87%)]\tLoss: 0.316131\n",
      "Validation set: Average loss: 0.7013, Accuracy: 333/500 (66%)\n",
      "\n",
      "Train Epoch: 8 [0/5500 (0%)]\tLoss: 0.741026\n",
      "Train Epoch: 8 [1600/5500 (29%)]\tLoss: 0.818328\n",
      "Train Epoch: 8 [3200/5500 (58%)]\tLoss: 0.558466\n",
      "Train Epoch: 8 [4800/5500 (87%)]\tLoss: 0.597885\n",
      "Validation set: Average loss: 0.6810, Accuracy: 342/500 (68%)\n",
      "\n",
      "Train Epoch: 9 [0/5500 (0%)]\tLoss: 0.543605\n",
      "Train Epoch: 9 [1600/5500 (29%)]\tLoss: 0.998798\n",
      "Train Epoch: 9 [3200/5500 (58%)]\tLoss: 0.386187\n",
      "Train Epoch: 9 [4800/5500 (87%)]\tLoss: 0.506165\n",
      "Validation set: Average loss: 0.7396, Accuracy: 334/500 (66%)\n",
      "\n",
      "Train Epoch: 10 [0/5500 (0%)]\tLoss: 0.563450\n",
      "Train Epoch: 10 [1600/5500 (29%)]\tLoss: 0.706332\n",
      "Train Epoch: 10 [3200/5500 (58%)]\tLoss: 0.795799\n",
      "Train Epoch: 10 [4800/5500 (87%)]\tLoss: 0.707147\n",
      "Validation set: Average loss: 0.6771, Accuracy: 360/500 (72%)\n",
      "\n",
      "Train Epoch: 11 [0/5500 (0%)]\tLoss: 0.645811\n",
      "Train Epoch: 11 [1600/5500 (29%)]\tLoss: 0.575186\n",
      "Train Epoch: 11 [3200/5500 (58%)]\tLoss: 0.521895\n",
      "Train Epoch: 11 [4800/5500 (87%)]\tLoss: 0.806495\n",
      "Validation set: Average loss: 0.6617, Accuracy: 347/500 (69%)\n",
      "\n",
      "Train Epoch: 12 [0/5500 (0%)]\tLoss: 0.534475\n",
      "Train Epoch: 12 [1600/5500 (29%)]\tLoss: 0.323166\n",
      "Train Epoch: 12 [3200/5500 (58%)]\tLoss: 0.331038\n",
      "Train Epoch: 12 [4800/5500 (87%)]\tLoss: 0.499325\n",
      "Validation set: Average loss: 0.6357, Accuracy: 350/500 (70%)\n",
      "\n",
      "Train Epoch: 13 [0/5500 (0%)]\tLoss: 0.406521\n",
      "Train Epoch: 13 [1600/5500 (29%)]\tLoss: 0.454774\n",
      "Train Epoch: 13 [3200/5500 (58%)]\tLoss: 0.655932\n",
      "Train Epoch: 13 [4800/5500 (87%)]\tLoss: 0.326384\n",
      "Validation set: Average loss: 0.6535, Accuracy: 350/500 (70%)\n",
      "\n",
      "Train Epoch: 14 [0/5500 (0%)]\tLoss: 0.482983\n",
      "Train Epoch: 14 [1600/5500 (29%)]\tLoss: 0.424093\n",
      "Train Epoch: 14 [3200/5500 (58%)]\tLoss: 1.064571\n",
      "Train Epoch: 14 [4800/5500 (87%)]\tLoss: 0.489903\n",
      "Validation set: Average loss: 0.6160, Accuracy: 358/500 (71%)\n",
      "\n",
      "Train Epoch: 15 [0/5500 (0%)]\tLoss: 0.704451\n",
      "Train Epoch: 15 [1600/5500 (29%)]\tLoss: 0.694984\n",
      "Train Epoch: 15 [3200/5500 (58%)]\tLoss: 0.523598\n",
      "Train Epoch: 15 [4800/5500 (87%)]\tLoss: 0.446049\n",
      "Validation set: Average loss: 0.6294, Accuracy: 345/500 (69%)\n",
      "\n",
      "Train Epoch: 16 [0/5500 (0%)]\tLoss: 0.609910\n",
      "Train Epoch: 16 [1600/5500 (29%)]\tLoss: 0.866353\n",
      "Train Epoch: 16 [3200/5500 (58%)]\tLoss: 1.025523\n",
      "Train Epoch: 16 [4800/5500 (87%)]\tLoss: 0.420068\n",
      "Validation set: Average loss: 0.6130, Accuracy: 358/500 (71%)\n",
      "\n",
      "Train Epoch: 17 [0/5500 (0%)]\tLoss: 0.509707\n",
      "Train Epoch: 17 [1600/5500 (29%)]\tLoss: 0.718352\n",
      "Train Epoch: 17 [3200/5500 (58%)]\tLoss: 0.688662\n",
      "Train Epoch: 17 [4800/5500 (87%)]\tLoss: 1.064784\n",
      "Validation set: Average loss: 0.5689, Accuracy: 368/500 (73%)\n",
      "\n",
      "Train Epoch: 18 [0/5500 (0%)]\tLoss: 0.226471\n",
      "Train Epoch: 18 [1600/5500 (29%)]\tLoss: 0.342425\n",
      "Train Epoch: 18 [3200/5500 (58%)]\tLoss: 0.353077\n",
      "Train Epoch: 18 [4800/5500 (87%)]\tLoss: 0.723458\n",
      "Validation set: Average loss: 0.5618, Accuracy: 379/500 (75%)\n",
      "\n",
      "Train Epoch: 19 [0/5500 (0%)]\tLoss: 0.500284\n",
      "Train Epoch: 19 [1600/5500 (29%)]\tLoss: 0.344311\n",
      "Train Epoch: 19 [3200/5500 (58%)]\tLoss: 0.744017\n",
      "Train Epoch: 19 [4800/5500 (87%)]\tLoss: 0.319053\n",
      "Validation set: Average loss: 0.5687, Accuracy: 365/500 (73%)\n",
      "\n",
      "Train Epoch: 20 [0/5500 (0%)]\tLoss: 0.828083\n",
      "Train Epoch: 20 [1600/5500 (29%)]\tLoss: 0.664399\n",
      "Train Epoch: 20 [3200/5500 (58%)]\tLoss: 0.619325\n",
      "Train Epoch: 20 [4800/5500 (87%)]\tLoss: 0.568439\n",
      "Validation set: Average loss: 0.6052, Accuracy: 355/500 (71%)\n",
      "\n",
      "Train Epoch: 21 [0/5500 (0%)]\tLoss: 0.498394\n",
      "Train Epoch: 21 [1600/5500 (29%)]\tLoss: 0.534169\n",
      "Train Epoch: 21 [3200/5500 (58%)]\tLoss: 0.713215\n",
      "Train Epoch: 21 [4800/5500 (87%)]\tLoss: 0.494753\n",
      "Validation set: Average loss: 0.6528, Accuracy: 349/500 (69%)\n",
      "\n",
      "Train Epoch: 22 [0/5500 (0%)]\tLoss: 0.998945\n",
      "Train Epoch: 22 [1600/5500 (29%)]\tLoss: 0.545366\n",
      "Train Epoch: 22 [3200/5500 (58%)]\tLoss: 0.412265\n",
      "Train Epoch: 22 [4800/5500 (87%)]\tLoss: 0.467046\n",
      "Validation set: Average loss: 0.5477, Accuracy: 378/500 (75%)\n",
      "\n",
      "Train Epoch: 23 [0/5500 (0%)]\tLoss: 0.529656\n",
      "Train Epoch: 23 [1600/5500 (29%)]\tLoss: 0.532593\n",
      "Train Epoch: 23 [3200/5500 (58%)]\tLoss: 0.460466\n",
      "Train Epoch: 23 [4800/5500 (87%)]\tLoss: 0.447451\n",
      "Validation set: Average loss: 0.7016, Accuracy: 340/500 (68%)\n",
      "\n",
      "Train Epoch: 24 [0/5500 (0%)]\tLoss: 0.365612\n",
      "Train Epoch: 24 [1600/5500 (29%)]\tLoss: 0.358015\n",
      "Train Epoch: 24 [3200/5500 (58%)]\tLoss: 0.337052\n",
      "Train Epoch: 24 [4800/5500 (87%)]\tLoss: 0.502783\n",
      "Validation set: Average loss: 0.5876, Accuracy: 368/500 (73%)\n",
      "\n",
      "Train Epoch: 25 [0/5500 (0%)]\tLoss: 0.795229\n",
      "Train Epoch: 25 [1600/5500 (29%)]\tLoss: 0.637345\n",
      "Train Epoch: 25 [3200/5500 (58%)]\tLoss: 0.386671\n",
      "Train Epoch: 25 [4800/5500 (87%)]\tLoss: 0.263260\n",
      "Validation set: Average loss: 0.6017, Accuracy: 364/500 (72%)\n",
      "\n",
      "Train Epoch: 26 [0/5500 (0%)]\tLoss: 1.251572\n",
      "Train Epoch: 26 [1600/5500 (29%)]\tLoss: 0.609355\n",
      "Train Epoch: 26 [3200/5500 (58%)]\tLoss: 0.507064\n",
      "Train Epoch: 26 [4800/5500 (87%)]\tLoss: 0.677974\n",
      "Validation set: Average loss: 0.5943, Accuracy: 384/500 (76%)\n",
      "\n",
      "Train Epoch: 27 [0/5500 (0%)]\tLoss: 0.739630\n",
      "Train Epoch: 27 [1600/5500 (29%)]\tLoss: 0.512266\n",
      "Train Epoch: 27 [3200/5500 (58%)]\tLoss: 0.769202\n",
      "Train Epoch: 27 [4800/5500 (87%)]\tLoss: 0.445288\n",
      "Validation set: Average loss: 0.5527, Accuracy: 372/500 (74%)\n",
      "\n",
      "Train Epoch: 28 [0/5500 (0%)]\tLoss: 0.701086\n",
      "Train Epoch: 28 [1600/5500 (29%)]\tLoss: 0.680197\n",
      "Train Epoch: 28 [3200/5500 (58%)]\tLoss: 0.581735\n",
      "Train Epoch: 28 [4800/5500 (87%)]\tLoss: 0.493638\n",
      "Validation set: Average loss: 0.5816, Accuracy: 371/500 (74%)\n",
      "\n",
      "Train Epoch: 29 [0/5500 (0%)]\tLoss: 0.625793\n",
      "Train Epoch: 29 [1600/5500 (29%)]\tLoss: 0.252378\n",
      "Train Epoch: 29 [3200/5500 (58%)]\tLoss: 0.273622\n",
      "Train Epoch: 29 [4800/5500 (87%)]\tLoss: 0.559884\n",
      "Validation set: Average loss: 0.5865, Accuracy: 371/500 (74%)\n",
      "\n",
      "Train Epoch: 30 [0/5500 (0%)]\tLoss: 0.786494\n",
      "Train Epoch: 30 [1600/5500 (29%)]\tLoss: 0.841779\n",
      "Train Epoch: 30 [3200/5500 (58%)]\tLoss: 0.526474\n",
      "Train Epoch: 30 [4800/5500 (87%)]\tLoss: 0.542064\n",
      "Validation set: Average loss: 0.5455, Accuracy: 381/500 (76%)\n",
      "\n"
     ]
    }
   ],
   "source": [
    "epochs = 30\n",
    "for epoch in range(1, epochs + 1):\n",
    "    train(net3,optimizer3,epoch)\n",
    "    evaluate(net3,optimizer3)"
   ]
  },
  {
   "cell_type": "code",
   "execution_count": 93,
   "metadata": {
    "ExecuteTime": {
     "end_time": "2018-05-19T14:47:48.703075Z",
     "start_time": "2018-05-19T14:47:48.688509Z"
    }
   },
   "outputs": [],
   "source": [
    "def pred(pred_dataset,model):\n",
    "    pred_loader = torch.utils.data.DataLoader(pred_dataset,\n",
    "                                          batch_size=8,\n",
    "                                          shuffle=False,\n",
    "                                          **kwargs)\n",
    "    model.eval()\n",
    "    result = np.zeros((len(pred_dataset)))\n",
    "    with torch.no_grad():\n",
    "        for i, data in enumerate(pred_loader):\n",
    "            batch_size = data.size()[0]\n",
    "            data = Variable(data)\n",
    "            output = model(data)\n",
    "            pred_class = output.data.max(1, keepdim=False)[1] # get the index of the max log-probability\n",
    "            #print(pred_class)\n",
    "            result[(i*8):(i*8)+batch_size] = pred_class\n",
    "    return result"
   ]
  },
  {
   "cell_type": "code",
   "execution_count": 104,
   "metadata": {
    "ExecuteTime": {
     "end_time": "2018-05-19T14:49:13.546317Z",
     "start_time": "2018-05-19T14:49:13.323623Z"
    }
   },
   "outputs": [
    {
     "data": {
      "text/plain": [
       "(array([ 86, 117,  97]), array([0, 1, 2, 3]))"
      ]
     },
     "execution_count": 104,
     "metadata": {},
     "output_type": "execute_result"
    }
   ],
   "source": [
    "prediction = pred(pred_dataset,net1)\n",
    "np.histogram(prediction,bins=[0,1,2,3])"
   ]
  },
  {
   "cell_type": "code",
   "execution_count": 105,
   "metadata": {
    "ExecuteTime": {
     "end_time": "2018-05-19T14:49:29.711245Z",
     "start_time": "2018-05-19T14:49:29.706467Z"
    }
   },
   "outputs": [],
   "source": [
    "# PREDICT prediction FROM test_x\n",
    "\n",
    "# MAKE SURE THAT YOU HAVE THE RIGHT FORMAT\n",
    "assert prediction.ndim == 1\n",
    "assert prediction.shape[0] == 300\n",
    "\n",
    "# AND SAVE EXACTLY AS SHOWN BELOW\n",
    "np.save('prediction.npy', prediction)"
   ]
  },
  {
   "cell_type": "code",
   "execution_count": null,
   "metadata": {
    "collapsed": true
   },
   "outputs": [],
   "source": []
  }
 ],
 "metadata": {
  "kernelspec": {
   "display_name": "Python 3",
   "language": "python",
   "name": "python3"
  },
  "language_info": {
   "codemirror_mode": {
    "name": "ipython",
    "version": 3
   },
   "file_extension": ".py",
   "mimetype": "text/x-python",
   "name": "python",
   "nbconvert_exporter": "python",
   "pygments_lexer": "ipython3",
   "version": "3.5.0"
  },
  "toc": {
   "nav_menu": {},
   "number_sections": true,
   "sideBar": true,
   "skip_h1_title": false,
   "toc_cell": false,
   "toc_position": {},
   "toc_section_display": "block",
   "toc_window_display": false
  }
 },
 "nbformat": 4,
 "nbformat_minor": 2
}
